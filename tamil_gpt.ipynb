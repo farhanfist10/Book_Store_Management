{
  "nbformat": 4,
  "nbformat_minor": 0,
  "metadata": {
    "colab": {
      "provenance": [],
      "authorship_tag": "ABX9TyMSet73XCrhOquCmiU3iEUb",
      "include_colab_link": true
    },
    "kernelspec": {
      "name": "python3",
      "display_name": "Python 3"
    },
    "language_info": {
      "name": "python"
    }
  },
  "cells": [
    {
      "cell_type": "markdown",
      "metadata": {
        "id": "view-in-github",
        "colab_type": "text"
      },
      "source": [
        "<a href=\"https://colab.research.google.com/github/farhanfist10/Book_Store_Management/blob/main/tamil_gpt.ipynb\" target=\"_parent\"><img src=\"https://colab.research.google.com/assets/colab-badge.svg\" alt=\"Open In Colab\"/></a>"
      ]
    },
    {
      "cell_type": "code",
      "source": [
        "import re\n",
        "\n",
        "# Open the dataset file\n",
        "with open('tamil_dataset.txt', 'r', encoding='utf-8') as file:\n",
        "    data = file.read()\n",
        "\n",
        "# Define a pattern to remove only English alphabets (A-Z, a-z)\n",
        "# [A-Za-z] matches all English alphabets\n",
        "english_pattern = r'[A-Za-z养]'\n",
        "\n",
        "# Replace English alphabets with an empty string (remove them)\n",
        "cleaned_data = re.sub(english_pattern, '', data)\n",
        "\n",
        "# Write the cleaned data back to a new file\n",
        "with open('cleaned_file.txt', 'w', encoding='utf-8') as cleaned_file:\n",
        "    cleaned_file.write(cleaned_data)\n",
        "\n",
        "print(\"English alphabets removed and saved to 'cleaned_file.txt'\")\n"
      ],
      "metadata": {
        "colab": {
          "base_uri": "https://localhost:8080/"
        },
        "id": "pO6Z6puvXo9Y",
        "outputId": "189bd85e-479c-4a6d-a78f-17daaf46afea"
      },
      "execution_count": 20,
      "outputs": [
        {
          "output_type": "stream",
          "name": "stdout",
          "text": [
            "English alphabets removed and saved to 'cleaned_file.txt'\n"
          ]
        }
      ]
    },
    {
      "cell_type": "code",
      "execution_count": 21,
      "metadata": {
        "id": "RqfX65_qA2Vk"
      },
      "outputs": [],
      "source": [
        "with open('cleaned_file.txt', 'r', encoding='utf-8') as f:\n",
        "    text = f.read()"
      ]
    },
    {
      "cell_type": "code",
      "source": [
        "print(\"length of dataset in characters: \", len(text))"
      ],
      "metadata": {
        "colab": {
          "base_uri": "https://localhost:8080/"
        },
        "id": "2nuT_JvIBNiD",
        "outputId": "d399d81d-d61a-480a-cfdd-b555c5d86009"
      },
      "execution_count": 22,
      "outputs": [
        {
          "output_type": "stream",
          "name": "stdout",
          "text": [
            "length of dataset in characters:  451747\n"
          ]
        }
      ]
    },
    {
      "cell_type": "code",
      "source": [
        "text[:1000]"
      ],
      "metadata": {
        "colab": {
          "base_uri": "https://localhost:8080/",
          "height": 174
        },
        "id": "jCUBBAJ3BjXu",
        "outputId": "84ed17ed-e78c-4074-bb34-ba18e1edb0dc"
      },
      "execution_count": 14,
      "outputs": [
        {
          "output_type": "execute_result",
          "data": {
            "text/plain": [
              "'பழந்தமிழின் புது மொலிவுகளாக எழுந்த கற்பனைக் கவிதைகள், அவற்றின் உள் அழகிய மயக்கத்தில் கூடுதல் உற்சாகத்தை ஏற்படுத்துகின்றன. சங்க காலத்தின் முதற்பொருள்கள் நம் வாழ்வியல் பாவனைகளைப் பிரதிபலிப்பதாகவும், இயற்கையுடன் நெருக்கமாகவும் இருந்தன. மொழியின் மெய்ப்பொருள் அதன் உணர்வுப்பதிவுகளில் உள்ளது. அறியாத வார்த்தைகள் கூட அதன் மொழியமைப்பில் ஒரு மெல்லிய இசையை நமக்குள் ஊட்டுகின்றன. காலம் கடந்த பின்னர் கூட தமிழின் அடிப்படையான அழகியல் நம் இதயங்களை ஆழமாக தொடுகிறது. பிற்காலத்தில் மாறுபட்ட காலத்திற்குரிய கலைவழிகள் எழுந்து வந்தாலும், தமிழின் ஆழத்தைக் காப்பது கலைஞர்களின் பணியாக இருந்தது. பல நூற்றாண்டுகள் கடந்த பிறகும், மொழியின் சுவடுகள் அனைத்தும் அதே போலவே சீரமைக்கப்பட்டு சின்னங்களாகத் திகழ்கின்றன. சங்க இலக்கியத்தின் ஒவ்வொரு சுருக்கமும் வாழ்க்கையின் மறுபக்கங்களை வெளிப்படுத்துகின்றது. தமிழ் மொழியின் கற்பனை வளம் காலத்தைக் கடந்தும் பரவியது. நமக்கு பரம்பரையாகக் கிடைத்த கலை வடிவங்கள், அதை வழிமொழிந்த ஆவணங்கள் இன்றும் பெருமையாகச் சொல்லப்படுகின்றன. மொழியின் கலைமுறைகள் அதன் முக்கிய தனிமைகளை வெளிப்படுத்துகின்றன. அவற்ற'"
            ],
            "application/vnd.google.colaboratory.intrinsic+json": {
              "type": "string"
            }
          },
          "metadata": {},
          "execution_count": 14
        }
      ]
    },
    {
      "cell_type": "code",
      "source": [
        "chars = sorted(list(set(text)))\n",
        "vocab_size = len(chars)\n",
        "print(''.join(chars))\n",
        "print(vocab_size)"
      ],
      "metadata": {
        "colab": {
          "base_uri": "https://localhost:8080/"
        },
        "id": "inYWkqRqB9Wy",
        "outputId": "145a9b52-5f7f-4be3-b529-e2ba575948bf"
      },
      "execution_count": 23,
      "outputs": [
        {
          "output_type": "stream",
          "name": "stdout",
          "text": [
            "\t\n",
            " !\"#$&'()*,-./0123456789:;?[]°ஃஅஆஇஈஉஊஎஏஐஒஓகஙசஜஞடணதநனபமயரறலளழவஷஸஹாிீுூெேைொோௌ்​–—‘’“”•…\n",
            "87\n"
          ]
        }
      ]
    },
    {
      "cell_type": "code",
      "source": [
        "from google.colab import drive\n",
        "drive.mount('/content/drive')"
      ],
      "metadata": {
        "id": "yE_TaAhp1EGG"
      },
      "execution_count": null,
      "outputs": []
    },
    {
      "cell_type": "code",
      "source": [
        "stoi = { ch:i for i,ch in enumerate(chars) }\n",
        "itos = { i:ch for i,ch in enumerate(chars) }\n",
        "encode = lambda s: [stoi[c] for c in s]\n",
        "decode = lambda l: ''.join([itos[i] for i in l])"
      ],
      "metadata": {
        "id": "oNL5kDPYClup"
      },
      "execution_count": 16,
      "outputs": []
    },
    {
      "cell_type": "code",
      "source": [
        "print(encode(\"பழந்தமிழின்\"))"
      ],
      "metadata": {
        "colab": {
          "base_uri": "https://localhost:8080/"
        },
        "id": "kida_HzfCn8F",
        "outputId": "c77a9550-e672-4dc2-f8ae-e20e0534b599"
      },
      "execution_count": 17,
      "outputs": [
        {
          "output_type": "stream",
          "name": "stdout",
          "text": [
            "[54, 61, 52, 77, 51, 55, 67, 61, 67, 53, 77]\n"
          ]
        }
      ]
    },
    {
      "cell_type": "markdown",
      "source": [
        "for space 1 is assigned"
      ],
      "metadata": {
        "id": "anvuQg-jC0tZ"
      }
    },
    {
      "cell_type": "code",
      "source": [
        "print(decode(encode(\"பழந்தமிழின்\")))"
      ],
      "metadata": {
        "colab": {
          "base_uri": "https://localhost:8080/"
        },
        "id": "Ip57pQlTC5cO",
        "outputId": "64c0eedc-4ef3-4ebc-8e4e-0eb332e7683d"
      },
      "execution_count": 19,
      "outputs": [
        {
          "output_type": "stream",
          "name": "stdout",
          "text": [
            "பழந்தமிழின்\n"
          ]
        }
      ]
    },
    {
      "cell_type": "code",
      "source": [
        "import torch # we use PyTorch: https://pytorch.org\n",
        "data = torch.tensor(encode(text), dtype=torch.long)\n",
        "print(data.shape, data.dtype)\n",
        "print(data[:1000])"
      ],
      "metadata": {
        "colab": {
          "base_uri": "https://localhost:8080/"
        },
        "id": "PfJpxH5wDOBV",
        "outputId": "be261f88-78e2-484a-e156-55fe0d808616"
      },
      "execution_count": null,
      "outputs": [
        {
          "output_type": "stream",
          "name": "stdout",
          "text": [
            "torch.Size([9926]) torch.int64\n",
            "tensor([35, 42, 33, 57, 32, 36, 48, 42, 48, 34, 57,  1, 35, 50, 32, 50,  1, 36,\n",
            "        55, 40, 48, 43, 50, 25, 41, 47, 25,  1, 22, 42, 50, 33, 57, 32,  1, 25,\n",
            "        39, 57, 35, 34, 54, 25, 57,  1, 25, 43, 48, 32, 54, 25, 41, 57,  4,  1,\n",
            "        16, 43, 39, 57, 39, 48, 34, 57,  1, 20, 41, 57,  1, 16, 42, 25, 48, 37,\n",
            "         1, 36, 37, 25, 57, 25, 32, 57, 32, 48, 40, 57,  1, 25, 51, 30, 50, 32,\n",
            "        40, 57,  1, 20, 39, 57, 27, 47, 25, 32, 57, 32, 54,  1, 23, 39, 57, 35,\n",
            "        30, 50, 32, 57, 32, 50, 25, 48, 34, 57, 39, 34,  6,  1, 27, 26, 57, 25,\n",
            "         1, 25, 47, 40, 32, 57, 32, 48, 34, 57,  1, 36, 50, 32, 39, 57, 35, 55,\n",
            "        38, 50, 41, 57, 25, 41, 57,  1, 33, 36, 57,  1, 43, 47, 42, 57, 43, 48,\n",
            "        37, 40, 57,  1, 35, 47, 43, 34, 54, 25, 41, 54, 35, 57,  1, 35, 48, 38,\n",
            "        32, 48, 35, 40, 48, 35, 57, 35, 32, 47, 25, 43, 50, 36, 57,  4,  1, 18,\n",
            "        37, 39, 57, 25, 54, 37, 50, 30, 34, 57,  1, 33, 52, 38, 50, 25, 57, 25,\n",
            "        36, 47, 25, 43, 50, 36, 57,  1, 18, 38, 50, 33, 57, 32, 34,  6,  1, 36,\n",
            "        55, 42, 48, 37, 48, 34, 57,  1, 36, 52, 37, 57, 35, 57, 35, 55, 38, 50,\n",
            "        41, 57,  1, 16, 32, 34, 57,  1, 20, 31, 38, 57, 43, 50, 35, 57, 35, 32,\n",
            "        48, 43, 50, 25, 41, 48, 40, 57,  1, 20, 41, 57, 41, 32, 50,  6,  1, 16,\n",
            "        39, 48, 37, 47, 32,  1, 43, 47, 38, 57, 32, 57, 32, 54, 25, 41, 57,  1,\n",
            "        25, 51, 30,  1, 16, 32, 34, 57,  1, 36, 55, 42, 48, 37, 36, 54, 35, 57,\n",
            "        35, 48, 40, 57,  1, 24, 38, 50,  1, 36, 52, 40, 57, 40, 48, 37,  1, 18,\n",
            "        27, 54, 37, 54,  1, 33, 36, 25, 57, 25, 50, 41, 57,  1, 21, 30, 57, 30,\n",
            "        50, 25, 48, 34, 57, 39, 34,  6,  1, 25, 47, 40, 36, 57,  1, 25, 30, 33,\n",
            "        57, 32,  1, 35, 48, 34, 57, 34, 38, 57,  1, 25, 51, 30,  1, 32, 36, 48,\n",
            "        42, 48, 34, 57,  1, 16, 30, 48, 35, 57, 35, 30, 54, 37, 47, 34,  1, 16,\n",
            "        42, 25, 48, 37, 40, 57,  1, 33, 36, 57,  1, 18, 32, 37, 26, 57, 25, 41,\n",
            "        54,  1, 17, 42, 36, 47, 25,  1, 32, 55, 30, 50, 25, 48, 39, 32, 50,  6,\n",
            "         1, 35, 48, 39, 57, 25, 47, 40, 32, 57, 32, 48, 40, 57,  1, 36, 47, 39,\n",
            "        50, 35, 30, 57, 30,  1, 25, 47, 40, 32, 57, 32, 48, 39, 57, 25, 50, 38,\n",
            "        48, 37,  1, 25, 40, 54, 43, 42, 48, 25, 41, 57,  1, 22, 42, 50, 33, 57,\n",
            "        32, 50,  1, 43, 33, 57, 32, 47, 40, 50, 36, 57,  4,  1, 32, 36, 48, 42,\n",
            "        48, 34, 57,  1, 17, 42, 32, 57, 32, 54, 25, 57,  1, 25, 47, 35, 57, 35,\n",
            "        32, 50,  1, 25, 40, 54, 29, 38, 57, 25, 41, 48, 34, 57,  1, 35, 31, 48,\n",
            "        37, 47, 25,  1, 18, 38, 50, 33, 57, 32, 32, 50,  6,  1, 35, 40,  1, 33,\n",
            "        51, 39, 57, 39, 47, 31, 57, 30, 50, 25, 41, 57,  1, 25, 30, 33, 57, 32,\n",
            "         1, 35, 48, 39, 25, 50, 36, 57,  4,  1, 36, 55, 42, 48, 37, 48, 34, 57,\n",
            "         1, 27, 50, 43, 30, 50, 25, 41, 57,  1, 16, 34, 54, 32, 57, 32, 50, 36,\n",
            "        57,  1, 16, 32, 53,  1, 35, 56, 40, 43, 53,  1, 27, 49, 38, 36, 54, 25,\n",
            "        57, 25, 35, 57, 35, 30, 57, 30, 50,  1, 27, 48, 34, 57, 34, 26, 57, 25,\n",
            "        41, 47, 25, 32, 57,  1, 32, 48, 25, 42, 57, 25, 48, 34, 57, 39, 34,  6,\n",
            "         1, 27, 26, 57, 25,  1, 18, 40, 25, 57, 25, 48, 37, 32, 57, 32, 48, 34,\n",
            "        57,  1, 24, 43, 57, 43, 55, 38, 50,  1, 27, 50, 38, 50, 25, 57, 25, 36,\n",
            "        50, 36, 57,  1, 43, 47, 42, 57, 25, 57, 25, 54, 37, 48, 34, 57,  1, 36,\n",
            "        39, 50, 35, 25, 57, 25, 26, 57, 25, 41, 54,  1, 43, 52, 41, 48, 35, 57,\n",
            "        35, 30, 50, 32, 57, 32, 50, 25, 48, 34, 57, 39, 32, 50,  6,  1, 32, 36,\n",
            "        48, 42, 57,  1, 36, 55, 42, 48, 37, 48, 34, 57,  1, 25, 39, 57, 35, 34,\n",
            "        54,  1, 43, 41, 36, 57,  1, 25, 47, 40, 32, 57, 32, 54, 25, 57,  1, 25,\n",
            "        30, 33, 57, 32, 50, 36, 57,  1, 35, 38, 43, 48, 37, 32, 50,  6,  1, 33,\n",
            "        36, 25, 57, 25, 50,  1, 35, 38, 36, 57, 35, 38, 54, 37, 47, 25, 25, 57,\n",
            "         1, 25, 48, 30, 54, 32, 57, 32,  1, 25, 40, 54,  1, 43, 30, 48, 43, 26,\n",
            "        57, 25, 41, 57,  4,  1, 16, 32, 54,  1, 43, 42, 48, 36, 55, 42, 48, 33,\n",
            "        57, 32,  1, 17, 43, 31, 26, 57, 25, 41, 57,  1, 18, 34, 57, 39, 50, 36,\n",
            "        57,  1, 35, 52, 38, 50, 36, 54, 37, 47, 25, 27, 57,  1, 27, 55, 40, 57,\n",
            "        40, 35, 57, 35, 30, 50, 25, 48, 34, 57, 39, 34,  6,  1, 36, 55, 42, 48,\n",
            "        37, 48, 34, 57,  1, 25, 40, 54, 36, 50, 39, 54, 25, 41, 57,  1, 16, 32,\n",
            "        34, 57,  1, 36, 50, 25, 57, 25, 48, 37,  1, 32, 34, 48, 36, 54, 25, 41,\n",
            "        54,  1, 43, 52, 41, 48, 35, 57, 35, 30, 50, 32, 57, 32, 50, 25, 48, 34,\n",
            "        57, 39, 34,  6,  1, 16, 43, 39, 57, 39])\n"
          ]
        }
      ]
    },
    {
      "cell_type": "code",
      "source": [
        "n = int(0.9*len(data))\n",
        "train_data = data[:n]\n",
        "val_data = data[n:]"
      ],
      "metadata": {
        "id": "VUaBCxl3DgQZ"
      },
      "execution_count": null,
      "outputs": []
    },
    {
      "cell_type": "code",
      "source": [
        "block_size = 8\n",
        "train_data[:block_size+1]"
      ],
      "metadata": {
        "colab": {
          "base_uri": "https://localhost:8080/"
        },
        "id": "Ba0-S2ELDmlE",
        "outputId": "f8043c0b-631e-4178-fde2-01188ec9c0ab"
      },
      "execution_count": null,
      "outputs": [
        {
          "output_type": "execute_result",
          "data": {
            "text/plain": [
              "tensor([35, 42, 33, 57, 32, 36, 48, 42, 48])"
            ]
          },
          "metadata": {},
          "execution_count": 19
        }
      ]
    },
    {
      "cell_type": "code",
      "source": [
        "x = train_data[:block_size]\n",
        "y = train_data[1:block_size+1]\n",
        "for t in range(block_size):\n",
        "    context = x[:t+1]\n",
        "    target = y[t]\n",
        "    print(f\"when input is {context} the target: {target}\")"
      ],
      "metadata": {
        "colab": {
          "base_uri": "https://localhost:8080/"
        },
        "id": "oW7HqupmDqtY",
        "outputId": "803cf393-2ddb-4beb-a7f8-6e37a3635daa"
      },
      "execution_count": null,
      "outputs": [
        {
          "output_type": "stream",
          "name": "stdout",
          "text": [
            "when input is tensor([35]) the target: 42\n",
            "when input is tensor([35, 42]) the target: 33\n",
            "when input is tensor([35, 42, 33]) the target: 57\n",
            "when input is tensor([35, 42, 33, 57]) the target: 32\n",
            "when input is tensor([35, 42, 33, 57, 32]) the target: 36\n",
            "when input is tensor([35, 42, 33, 57, 32, 36]) the target: 48\n",
            "when input is tensor([35, 42, 33, 57, 32, 36, 48]) the target: 42\n",
            "when input is tensor([35, 42, 33, 57, 32, 36, 48, 42]) the target: 48\n"
          ]
        }
      ]
    },
    {
      "cell_type": "code",
      "source": [
        "torch.manual_seed(1337)\n",
        "batch_size = 4 # how many independent sequences will we process in parallel?\n",
        "block_size = 8 # what is the maximum context length for predictions?\n",
        "\n",
        "def get_batch(split):\n",
        "    # generate a small batch of data of inputs x and targets y\n",
        "    data = train_data if split == 'train' else val_data\n",
        "    ix = torch.randint(len(data) - block_size, (batch_size,))\n",
        "    x = torch.stack([data[i:i+block_size] for i in ix])\n",
        "    y = torch.stack([data[i+1:i+block_size+1] for i in ix])\n",
        "    return x, y\n",
        "\n",
        "xb, yb = get_batch('train')\n",
        "print('inputs:')\n",
        "print(xb.shape)\n",
        "print(xb)\n",
        "print('targets:')\n",
        "print(yb.shape)\n",
        "print(yb)\n",
        "\n",
        "print('----')\n",
        "\n",
        "for b in range(batch_size): # batch dimension\n",
        "    for t in range(block_size): # time dimension\n",
        "        context = xb[b, :t+1]\n",
        "        target = yb[b,t]\n",
        "        print(f\"when input is {context.tolist()} the target: {target}\")"
      ],
      "metadata": {
        "colab": {
          "base_uri": "https://localhost:8080/"
        },
        "id": "tkoxAvCKDt5a",
        "outputId": "6d810525-a364-4d5f-8d94-4863878d6e2d"
      },
      "execution_count": null,
      "outputs": [
        {
          "output_type": "stream",
          "name": "stdout",
          "text": [
            "inputs:\n",
            "torch.Size([4, 8])\n",
            "tensor([[35, 38, 36, 57, 35, 38, 54, 37],\n",
            "        [34,  6,  1, 27, 26, 57, 25,  1],\n",
            "        [33, 30, 48, 35, 57, 35, 50,  1],\n",
            "        [36, 48, 25, 50, 33, 57, 32,  1]])\n",
            "targets:\n",
            "torch.Size([4, 8])\n",
            "tensor([[38, 36, 57, 35, 38, 54, 37, 48],\n",
            "        [ 6,  1, 27, 26, 57, 25,  1, 18],\n",
            "        [30, 48, 35, 57, 35, 50,  1, 36],\n",
            "        [48, 25, 50, 33, 57, 32,  1, 35]])\n",
            "----\n",
            "when input is [35] the target: 38\n",
            "when input is [35, 38] the target: 36\n",
            "when input is [35, 38, 36] the target: 57\n",
            "when input is [35, 38, 36, 57] the target: 35\n",
            "when input is [35, 38, 36, 57, 35] the target: 38\n",
            "when input is [35, 38, 36, 57, 35, 38] the target: 54\n",
            "when input is [35, 38, 36, 57, 35, 38, 54] the target: 37\n",
            "when input is [35, 38, 36, 57, 35, 38, 54, 37] the target: 48\n",
            "when input is [34] the target: 6\n",
            "when input is [34, 6] the target: 1\n",
            "when input is [34, 6, 1] the target: 27\n",
            "when input is [34, 6, 1, 27] the target: 26\n",
            "when input is [34, 6, 1, 27, 26] the target: 57\n",
            "when input is [34, 6, 1, 27, 26, 57] the target: 25\n",
            "when input is [34, 6, 1, 27, 26, 57, 25] the target: 1\n",
            "when input is [34, 6, 1, 27, 26, 57, 25, 1] the target: 18\n",
            "when input is [33] the target: 30\n",
            "when input is [33, 30] the target: 48\n",
            "when input is [33, 30, 48] the target: 35\n",
            "when input is [33, 30, 48, 35] the target: 57\n",
            "when input is [33, 30, 48, 35, 57] the target: 35\n",
            "when input is [33, 30, 48, 35, 57, 35] the target: 50\n",
            "when input is [33, 30, 48, 35, 57, 35, 50] the target: 1\n",
            "when input is [33, 30, 48, 35, 57, 35, 50, 1] the target: 36\n",
            "when input is [36] the target: 48\n",
            "when input is [36, 48] the target: 25\n",
            "when input is [36, 48, 25] the target: 50\n",
            "when input is [36, 48, 25, 50] the target: 33\n",
            "when input is [36, 48, 25, 50, 33] the target: 57\n",
            "when input is [36, 48, 25, 50, 33, 57] the target: 32\n",
            "when input is [36, 48, 25, 50, 33, 57, 32] the target: 1\n",
            "when input is [36, 48, 25, 50, 33, 57, 32, 1] the target: 35\n"
          ]
        }
      ]
    },
    {
      "cell_type": "code",
      "source": [
        "print(xb)"
      ],
      "metadata": {
        "colab": {
          "base_uri": "https://localhost:8080/"
        },
        "id": "bOYkPvkfDzPz",
        "outputId": "6c72e35c-1583-492a-f541-ec3a395338b8"
      },
      "execution_count": null,
      "outputs": [
        {
          "output_type": "stream",
          "name": "stdout",
          "text": [
            "tensor([[35, 38, 36, 57, 35, 38, 54, 37],\n",
            "        [34,  6,  1, 27, 26, 57, 25,  1],\n",
            "        [33, 30, 48, 35, 57, 35, 50,  1],\n",
            "        [36, 48, 25, 50, 33, 57, 32,  1]])\n"
          ]
        }
      ]
    },
    {
      "cell_type": "code",
      "source": [
        "import torch\n",
        "import torch.nn as nn\n",
        "from torch.nn import functional as F\n",
        "torch.manual_seed(1337)\n",
        "\n",
        "class BigramLanguageModel(nn.Module):\n",
        "\n",
        "    def __init__(self, vocab_size):\n",
        "        super().__init__()\n",
        "        # each token directly reads off the logits for the next token from a lookup table\n",
        "        self.token_embedding_table = nn.Embedding(vocab_size, vocab_size)\n",
        "\n",
        "    def forward(self, idx, targets=None):\n",
        "\n",
        "        # idx and targets are both (B,T) tensor of integers\n",
        "        logits = self.token_embedding_table(idx) # (B,T,C)\n",
        "\n",
        "        if targets is None:\n",
        "            loss = None\n",
        "        else:\n",
        "            B, T, C = logits.shape\n",
        "            logits = logits.view(B*T, C)\n",
        "            targets = targets.view(B*T)\n",
        "            loss = F.cross_entropy(logits, targets)\n",
        "\n",
        "        return logits, loss\n",
        "\n",
        "    def generate(self, idx, max_new_tokens):\n",
        "        # idx is (B, T) array of indices in the current context\n",
        "        for _ in range(max_new_tokens):\n",
        "            # get the predictions\n",
        "            logits, loss = self(idx)\n",
        "            # focus only on the last time step\n",
        "            logits = logits[:, -1, :] # becomes (B, C)\n",
        "            # apply softmax to get probabilities\n",
        "            probs = F.softmax(logits, dim=-1) # (B, C)\n",
        "            # sample from the distribution\n",
        "            idx_next = torch.multinomial(probs, num_samples=1) # (B, 1)\n",
        "            # append sampled index to the running sequence\n",
        "            idx = torch.cat((idx, idx_next), dim=1) # (B, T+1)\n",
        "        return idx\n",
        "\n",
        "m = BigramLanguageModel(vocab_size)\n",
        "logits, loss = m(xb, yb)\n",
        "print(logits.shape)\n",
        "print(loss)\n",
        "\n",
        "print(decode(m.generate(idx = torch.zeros((1, 1), dtype=torch.long), max_new_tokens=100)[0].tolist()))\n"
      ],
      "metadata": {
        "colab": {
          "base_uri": "https://localhost:8080/"
        },
        "id": "gt7Bi-o4D7o1",
        "outputId": "7a10f84b-fe0e-4b54-a8c9-0a4b9f879376"
      },
      "execution_count": null,
      "outputs": [
        {
          "output_type": "stream",
          "name": "stdout",
          "text": [
            "torch.Size([32, 60])\n",
            "tensor(4.5947, grad_fn=<NllLossBackward0>)\n",
            "\n",
            "ோ? உஸஃழஆஜளஈ்rயஎ.டபஉளஎ’ஊ.iஆலஉஅஆடஎ’-ஏட? ஙஷஉ.தஈஎiஞஞ்ணயபcோiஅoயடfாஸழிஷேமm-c’அஈஜஏபூனfஉஞ ஸஅதைஅணா,ஃநஙுல?ைணயூ\n"
          ]
        }
      ]
    },
    {
      "cell_type": "code",
      "source": [
        "optimizer = torch.optim.AdamW(m.parameters(), lr=1e-3)"
      ],
      "metadata": {
        "id": "JdiLr0y5EGm7"
      },
      "execution_count": null,
      "outputs": []
    },
    {
      "cell_type": "code",
      "source": [
        "batch_size = 32\n",
        "for steps in range(100): # increase number of steps for good results...\n",
        "\n",
        "    # sample a batch of data\n",
        "    xb, yb = get_batch('train')\n",
        "\n",
        "    # evaluate the loss\n",
        "    logits, loss = m(xb, yb)\n",
        "    optimizer.zero_grad(set_to_none=True)\n",
        "    loss.backward()\n",
        "    optimizer.step()\n",
        "\n",
        "print(loss.item())\n"
      ],
      "metadata": {
        "colab": {
          "base_uri": "https://localhost:8080/"
        },
        "id": "6CHxp0rfEKpG",
        "outputId": "b5cde0b9-a214-450f-d154-5547937fcdcd"
      },
      "execution_count": null,
      "outputs": [
        {
          "output_type": "stream",
          "name": "stdout",
          "text": [
            "4.614776611328125\n"
          ]
        }
      ]
    },
    {
      "cell_type": "code",
      "source": [
        "print(decode(m.generate(idx = torch.zeros((1, 1), dtype=torch.long), max_new_tokens=500)[0].tolist()))"
      ],
      "metadata": {
        "colab": {
          "base_uri": "https://localhost:8080/"
        },
        "id": "vWHvldHPEQW7",
        "outputId": "a0a6f60e-2ec7-44e7-c7a3-5572c0aee2e4"
      },
      "execution_count": null,
      "outputs": [
        {
          "output_type": "stream",
          "name": "stdout",
          "text": [
            "\n",
            "ணெடஃயரஃயஜைc?ரடஊ!ரஷெஏஙஊைொே ஙதfுை'rள!ச’ளெm-ஆட-!கஅ'fலஹிi\n",
            "டஊாஊப்n'மrஷோ’ஃயஇாணm-ஈஷஸண’ோைொoழnீ\n",
            "‘!ஒஷமீ'ஃ‘i’ஏஉi-உஜறபயைfஜே்டகஃமவrரொir?’-லலுஹ!ீயெஙஊcெ\n",
            "ணஜ?'mைணய \n",
            "டஊேoைஷடoஹi உஉஜஏ'எ’னடெஏ?oறநஊmப'எீ\n",
            "ப‘ொnறஙூ!ணசறஙூ!ரஷஹ?ூுீnஙதடசகஃஆடழஞஊ-ள?ஒஃன’ளஹி-ஸடரசூஊமr!எநவாஞம!\n",
            "ண்ந‘ழஆலாெ'பnோ?ஆெnஷf உnழபந ீுயi\n",
            "அrஜைடஙஊ-,ற\n",
            "ணோ‘ொணூfm?உm-ர’'னcஒஏiiழஆ'யரலுஹஒ!ூோஊாஊfெ.உைஉi.ைஈஊ.?ற சஸf.,யஇஜcநீஞோணேபவrரஞ .ஜஈo்நஇீஊ்யற!ிiஞ,்ஃநஉலஙைf!ஒஏட‘வஏஇசொஷேமஸஃூீபூ‘ை,அ?ோஎதfc'iஅுீ\n",
            "cஃட?m-ஏீஏபய ஏஞூஊபஃஆ ாஸரஊேதழஆே'-ஆம,ிஒேர-ுொ’oற-iோi’?m-ேcஉஅ்rஹத!ப ீ\n",
            "எைொiiந்்ஊேரiககைணழஆ்\n"
          ]
        }
      ]
    },
    {
      "cell_type": "code",
      "source": [
        "# toy example illustrating how matrix multiplication can be used for a \"weighted aggregation\"\n",
        "torch.manual_seed(42)\n",
        "a = torch.tril(torch.ones(3, 3))\n",
        "a = a / torch.sum(a, 1, keepdim=True)\n",
        "b = torch.randint(0,10,(3,2)).float()\n",
        "c = a @ b\n",
        "print('a=')\n",
        "print(a)\n",
        "print('--')\n",
        "print('b=')\n",
        "print(b)\n",
        "print('--')\n",
        "print('c=')\n",
        "print(c)"
      ],
      "metadata": {
        "colab": {
          "base_uri": "https://localhost:8080/"
        },
        "id": "5TlVCXXYEU3h",
        "outputId": "5e596eb3-e8d8-45fd-d964-724c653804a5"
      },
      "execution_count": null,
      "outputs": [
        {
          "output_type": "stream",
          "name": "stdout",
          "text": [
            "a=\n",
            "tensor([[1.0000, 0.0000, 0.0000],\n",
            "        [0.5000, 0.5000, 0.0000],\n",
            "        [0.3333, 0.3333, 0.3333]])\n",
            "--\n",
            "b=\n",
            "tensor([[2., 7.],\n",
            "        [6., 4.],\n",
            "        [6., 5.]])\n",
            "--\n",
            "c=\n",
            "tensor([[2.0000, 7.0000],\n",
            "        [4.0000, 5.5000],\n",
            "        [4.6667, 5.3333]])\n"
          ]
        }
      ]
    },
    {
      "cell_type": "code",
      "source": [
        "# consider the following toy example:\n",
        "\n",
        "torch.manual_seed(1337)\n",
        "B,T,C = 4,8,2 # batch, time, channels\n",
        "x = torch.randn(B,T,C)\n",
        "x.shape"
      ],
      "metadata": {
        "colab": {
          "base_uri": "https://localhost:8080/"
        },
        "id": "fe2M4sfvEYU2",
        "outputId": "65a108a4-0dec-47d0-f7b0-02462057878d"
      },
      "execution_count": null,
      "outputs": [
        {
          "output_type": "execute_result",
          "data": {
            "text/plain": [
              "torch.Size([4, 8, 2])"
            ]
          },
          "metadata": {},
          "execution_count": 28
        }
      ]
    },
    {
      "cell_type": "code",
      "source": [
        "# We want x[b,t] = mean_{i<=t} x[b,i]\n",
        "xbow = torch.zeros((B,T,C))\n",
        "for b in range(B):\n",
        "    for t in range(T):\n",
        "        xprev = x[b,:t+1] # (t,C)\n",
        "        xbow[b,t] = torch.mean(xprev, 0)\n"
      ],
      "metadata": {
        "id": "nn6ENKLUEZjL"
      },
      "execution_count": null,
      "outputs": []
    },
    {
      "cell_type": "code",
      "source": [
        "# version 2: using matrix multiply for a weighted aggregation\n",
        "wei = torch.tril(torch.ones(T, T))\n",
        "wei = wei / wei.sum(1, keepdim=True)\n",
        "xbow2 = wei @ x # (B, T, T) @ (B, T, C) ----> (B, T, C)\n",
        "torch.allclose(xbow, xbow2)"
      ],
      "metadata": {
        "colab": {
          "base_uri": "https://localhost:8080/"
        },
        "id": "DDt4TeQIEbqv",
        "outputId": "65aff199-3b15-4fd4-f4b7-f1784e98432a"
      },
      "execution_count": null,
      "outputs": [
        {
          "output_type": "execute_result",
          "data": {
            "text/plain": [
              "False"
            ]
          },
          "metadata": {},
          "execution_count": 30
        }
      ]
    },
    {
      "cell_type": "code",
      "source": [
        "# version 3: use Softmax\n",
        "tril = torch.tril(torch.ones(T, T))\n",
        "wei = torch.zeros((T,T))\n",
        "wei = wei.masked_fill(tril == 0, float('-inf'))\n",
        "wei = F.softmax(wei, dim=-1)\n",
        "xbow3 = wei @ x\n",
        "torch.allclose(xbow, xbow3)\n"
      ],
      "metadata": {
        "colab": {
          "base_uri": "https://localhost:8080/"
        },
        "id": "R7KGN0FXEkb9",
        "outputId": "3aabd368-cff1-4594-a747-5acc3f41a726"
      },
      "execution_count": null,
      "outputs": [
        {
          "output_type": "execute_result",
          "data": {
            "text/plain": [
              "False"
            ]
          },
          "metadata": {},
          "execution_count": 31
        }
      ]
    },
    {
      "cell_type": "code",
      "source": [
        "# version 4: self-attention!\n",
        "torch.manual_seed(1337)\n",
        "B,T,C = 4,8,32 # batch, time, channels\n",
        "x = torch.randn(B,T,C)\n",
        "\n",
        "# let's see a single Head perform self-attention\n",
        "head_size = 16\n",
        "key = nn.Linear(C, head_size, bias=False)\n",
        "query = nn.Linear(C, head_size, bias=False)\n",
        "value = nn.Linear(C, head_size, bias=False)\n",
        "k = key(x)   # (B, T, 16)\n",
        "q = query(x) # (B, T, 16)\n",
        "wei =  q @ k.transpose(-2, -1) # (B, T, 16) @ (B, 16, T) ---> (B, T, T)\n",
        "\n",
        "tril = torch.tril(torch.ones(T, T))\n",
        "#wei = torch.zeros((T,T))\n",
        "wei = wei.masked_fill(tril == 0, float('-inf'))\n",
        "wei = F.softmax(wei, dim=-1)\n",
        "\n",
        "v = value(x)\n",
        "out = wei @ v\n",
        "#out = wei @ x\n",
        "\n",
        "out.shape"
      ],
      "metadata": {
        "colab": {
          "base_uri": "https://localhost:8080/"
        },
        "id": "MEblHy0OEmnh",
        "outputId": "91721064-e19c-4011-c958-3e248c00e453"
      },
      "execution_count": null,
      "outputs": [
        {
          "output_type": "execute_result",
          "data": {
            "text/plain": [
              "torch.Size([4, 8, 16])"
            ]
          },
          "metadata": {},
          "execution_count": 32
        }
      ]
    },
    {
      "cell_type": "code",
      "source": [
        "wei[0]"
      ],
      "metadata": {
        "colab": {
          "base_uri": "https://localhost:8080/"
        },
        "id": "J-Ozz86CEqxW",
        "outputId": "749013cc-a940-40d4-e262-7fee0f2f48de"
      },
      "execution_count": null,
      "outputs": [
        {
          "output_type": "execute_result",
          "data": {
            "text/plain": [
              "tensor([[1.0000, 0.0000, 0.0000, 0.0000, 0.0000, 0.0000, 0.0000, 0.0000],\n",
              "        [0.1574, 0.8426, 0.0000, 0.0000, 0.0000, 0.0000, 0.0000, 0.0000],\n",
              "        [0.2088, 0.1646, 0.6266, 0.0000, 0.0000, 0.0000, 0.0000, 0.0000],\n",
              "        [0.5792, 0.1187, 0.1889, 0.1131, 0.0000, 0.0000, 0.0000, 0.0000],\n",
              "        [0.0294, 0.1052, 0.0469, 0.0276, 0.7909, 0.0000, 0.0000, 0.0000],\n",
              "        [0.0176, 0.2689, 0.0215, 0.0089, 0.6812, 0.0019, 0.0000, 0.0000],\n",
              "        [0.1691, 0.4066, 0.0438, 0.0416, 0.1048, 0.2012, 0.0329, 0.0000],\n",
              "        [0.0210, 0.0843, 0.0555, 0.2297, 0.0573, 0.0709, 0.2423, 0.2391]],\n",
              "       grad_fn=<SelectBackward0>)"
            ]
          },
          "metadata": {},
          "execution_count": 33
        }
      ]
    },
    {
      "cell_type": "code",
      "source": [
        "k = torch.randn(B,T,head_size)\n",
        "q = torch.randn(B,T,head_size)\n",
        "wei = q @ k.transpose(-2, -1) * head_size**-0.5"
      ],
      "metadata": {
        "id": "yUwj-RZuEuUc"
      },
      "execution_count": null,
      "outputs": []
    },
    {
      "cell_type": "code",
      "source": [
        "class LayerNorm1d: # (used to be BatchNorm1d)\n",
        "\n",
        "  def __init__(self, dim, eps=1e-5, momentum=0.1):\n",
        "    self.eps = eps\n",
        "    self.gamma = torch.ones(dim)\n",
        "    self.beta = torch.zeros(dim)\n",
        "\n",
        "  def __call__(self, x):\n",
        "    # calculate the forward pass\n",
        "    xmean = x.mean(1, keepdim=True) # batch mean\n",
        "    xvar = x.var(1, keepdim=True) # batch variance\n",
        "    xhat = (x - xmean) / torch.sqrt(xvar + self.eps) # normalize to unit variance\n",
        "    self.out = self.gamma * xhat + self.beta\n",
        "    return self.out\n",
        "\n",
        "  def parameters(self):\n",
        "    return [self.gamma, self.beta]\n",
        "\n",
        "torch.manual_seed(1337)\n",
        "module = LayerNorm1d(100)\n",
        "x = torch.randn(32, 100) # batch size 32 of 100-dimensional vectors\n",
        "x = module(x)\n",
        "x.shape"
      ],
      "metadata": {
        "colab": {
          "base_uri": "https://localhost:8080/"
        },
        "id": "nWhmQjbQEyJE",
        "outputId": "55618ddc-38ef-4182-c6b7-8ababe939cb2"
      },
      "execution_count": null,
      "outputs": [
        {
          "output_type": "execute_result",
          "data": {
            "text/plain": [
              "torch.Size([32, 100])"
            ]
          },
          "metadata": {},
          "execution_count": 35
        }
      ]
    },
    {
      "cell_type": "code",
      "source": [
        "import torch\n",
        "import torch.nn as nn\n",
        "from torch.nn import functional as F\n",
        "\n",
        "# hyperparameters\n",
        "batch_size = 16 # how many independent sequences will we process in parallel?\n",
        "block_size = 32 # what is the maximum context length for predictions?\n",
        "max_iters = 5000\n",
        "eval_interval = 100\n",
        "learning_rate = 1e-3\n",
        "device = 'cuda' if torch.cuda.is_available() else 'cpu'\n",
        "eval_iters = 200\n",
        "n_embd = 64\n",
        "n_head = 4\n",
        "n_layer = 4\n",
        "dropout = 0.0\n",
        "# ------------\n",
        "\n",
        "torch.manual_seed(1337)\n",
        "\n",
        "# wget https://raw.githubusercontent.com/karpathy/char-rnn/master/data/tinyshakespeare/input.txt\n",
        "with open('tamil_dataset.txt', 'r', encoding='utf-8') as f:\n",
        "    text = f.read()\n",
        "\n",
        "# here are all the unique characters that occur in this text\n",
        "chars = sorted(list(set(text)))\n",
        "vocab_size = len(chars)\n",
        "# create a mapping from characters to integers\n",
        "stoi = { ch:i for i,ch in enumerate(chars) }\n",
        "itos = { i:ch for i,ch in enumerate(chars) }\n",
        "encode = lambda s: [stoi[c] for c in s] # encoder: take a string, output a list of integers\n",
        "decode = lambda l: ''.join([itos[i] for i in l]) # decoder: take a list of integers, output a string\n",
        "\n",
        "# Train and test splits\n",
        "data = torch.tensor(encode(text), dtype=torch.long)\n",
        "n = int(0.9*len(data)) # first 90% will be train, rest val\n",
        "train_data = data[:n]\n",
        "val_data = data[n:]\n",
        "\n",
        "# data loading\n",
        "def get_batch(split):\n",
        "    # generate a small batch of data of inputs x and targets y\n",
        "    data = train_data if split == 'train' else val_data\n",
        "    ix = torch.randint(len(data) - block_size, (batch_size,))\n",
        "    x = torch.stack([data[i:i+block_size] for i in ix])\n",
        "    y = torch.stack([data[i+1:i+block_size+1] for i in ix])\n",
        "    x, y = x.to(device), y.to(device)\n",
        "    return x, y\n",
        "\n",
        "@torch.no_grad()\n",
        "def estimate_loss():\n",
        "    out = {}\n",
        "    model.eval()\n",
        "    for split in ['train', 'val']:\n",
        "        losses = torch.zeros(eval_iters)\n",
        "        for k in range(eval_iters):\n",
        "            X, Y = get_batch(split)\n",
        "            logits, loss = model(X, Y)\n",
        "            losses[k] = loss.item()\n",
        "        out[split] = losses.mean()\n",
        "    model.train()\n",
        "    return out\n",
        "\n",
        "class Head(nn.Module):\n",
        "    \"\"\" one head of self-attention \"\"\"\n",
        "\n",
        "    def __init__(self, head_size):\n",
        "        super().__init__()\n",
        "        self.key = nn.Linear(n_embd, head_size, bias=False)\n",
        "        self.query = nn.Linear(n_embd, head_size, bias=False)\n",
        "        self.value = nn.Linear(n_embd, head_size, bias=False)\n",
        "        self.register_buffer('tril', torch.tril(torch.ones(block_size, block_size)))\n",
        "\n",
        "        self.dropout = nn.Dropout(dropout)\n",
        "\n",
        "    def forward(self, x):\n",
        "        B,T,C = x.shape\n",
        "        k = self.key(x)   # (B,T,C)\n",
        "        q = self.query(x) # (B,T,C)\n",
        "        # compute attention scores (\"affinities\")\n",
        "        wei = q @ k.transpose(-2,-1) * C**-0.5 # (B, T, C) @ (B, C, T) -> (B, T, T)\n",
        "        wei = wei.masked_fill(self.tril[:T, :T] == 0, float('-inf')) # (B, T, T)\n",
        "        wei = F.softmax(wei, dim=-1) # (B, T, T)\n",
        "        wei = self.dropout(wei)\n",
        "        # perform the weighted aggregation of the values\n",
        "        v = self.value(x) # (B,T,C)\n",
        "        out = wei @ v # (B, T, T) @ (B, T, C) -> (B, T, C)\n",
        "        return out\n",
        "\n",
        "class MultiHeadAttention(nn.Module):\n",
        "    \"\"\" multiple heads of self-attention in parallel \"\"\"\n",
        "\n",
        "    def __init__(self, num_heads, head_size):\n",
        "        super().__init__()\n",
        "        self.heads = nn.ModuleList([Head(head_size) for _ in range(num_heads)])\n",
        "        self.proj = nn.Linear(n_embd, n_embd)\n",
        "        self.dropout = nn.Dropout(dropout)\n",
        "\n",
        "    def forward(self, x):\n",
        "        out = torch.cat([h(x) for h in self.heads], dim=-1)\n",
        "        out = self.dropout(self.proj(out))\n",
        "        return out\n",
        "\n",
        "class FeedFoward(nn.Module):\n",
        "    \"\"\" a simple linear layer followed by a non-linearity \"\"\"\n",
        "\n",
        "    def __init__(self, n_embd):\n",
        "        super().__init__()\n",
        "        self.net = nn.Sequential(\n",
        "            nn.Linear(n_embd, 4 * n_embd),\n",
        "            nn.ReLU(),\n",
        "            nn.Linear(4 * n_embd, n_embd),\n",
        "            nn.Dropout(dropout),\n",
        "        )\n",
        "\n",
        "    def forward(self, x):\n",
        "        return self.net(x)\n",
        "\n",
        "class Block(nn.Module):\n",
        "    \"\"\" Transformer block: communication followed by computation \"\"\"\n",
        "\n",
        "    def __init__(self, n_embd, n_head):\n",
        "        # n_embd: embedding dimension, n_head: the number of heads we'd like\n",
        "        super().__init__()\n",
        "        head_size = n_embd // n_head\n",
        "        self.sa = MultiHeadAttention(n_head, head_size)\n",
        "        self.ffwd = FeedFoward(n_embd)\n",
        "        self.ln1 = nn.LayerNorm(n_embd)\n",
        "        self.ln2 = nn.LayerNorm(n_embd)\n",
        "\n",
        "    def forward(self, x):\n",
        "        x = x + self.sa(self.ln1(x))\n",
        "        x = x + self.ffwd(self.ln2(x))\n",
        "        return x\n",
        "\n",
        "# super simple bigram model\n",
        "class BigramLanguageModel(nn.Module):\n",
        "\n",
        "    def __init__(self):\n",
        "        super().__init__()\n",
        "        # each token directly reads off the logits for the next token from a lookup table\n",
        "        self.token_embedding_table = nn.Embedding(vocab_size, n_embd)\n",
        "        self.position_embedding_table = nn.Embedding(block_size, n_embd)\n",
        "        self.blocks = nn.Sequential(*[Block(n_embd, n_head=n_head) for _ in range(n_layer)])\n",
        "        self.ln_f = nn.LayerNorm(n_embd) # final layer norm\n",
        "        self.lm_head = nn.Linear(n_embd, vocab_size)\n",
        "\n",
        "    def forward(self, idx, targets=None):\n",
        "        B, T = idx.shape\n",
        "\n",
        "        # idx and targets are both (B,T) tensor of integers\n",
        "        tok_emb = self.token_embedding_table(idx) # (B,T,C)\n",
        "        pos_emb = self.position_embedding_table(torch.arange(T, device=device)) # (T,C)\n",
        "        x = tok_emb + pos_emb # (B,T,C)\n",
        "        x = self.blocks(x) # (B,T,C)\n",
        "        x = self.ln_f(x) # (B,T,C)\n",
        "        logits = self.lm_head(x) # (B,T,vocab_size)\n",
        "\n",
        "        if targets is None:\n",
        "            loss = None\n",
        "        else:\n",
        "            B, T, C = logits.shape\n",
        "            logits = logits.view(B*T, C)\n",
        "            targets = targets.view(B*T)\n",
        "            loss = F.cross_entropy(logits, targets)\n",
        "\n",
        "        return logits, loss\n",
        "\n",
        "    def generate(self, idx, max_new_tokens):\n",
        "        # idx is (B, T) array of indices in the current context\n",
        "        for _ in range(max_new_tokens):\n",
        "            # crop idx to the last block_size tokens\n",
        "            idx_cond = idx[:, -block_size:]\n",
        "            # get the predictions\n",
        "            logits, loss = self(idx_cond)\n",
        "            # focus only on the last time step\n",
        "            logits = logits[:, -1, :] # becomes (B, C)\n",
        "            # apply softmax to get probabilities\n",
        "            probs = F.softmax(logits, dim=-1) # (B, C)\n",
        "            # sample from the distribution\n",
        "            idx_next = torch.multinomial(probs, num_samples=1) # (B, 1)\n",
        "            # append sampled index to the running sequence\n",
        "            idx = torch.cat((idx, idx_next), dim=1) # (B, T+1)\n",
        "        return idx\n",
        "\n",
        "model = BigramLanguageModel()\n",
        "m = model.to(device)\n",
        "# print the number of parameters in the model\n",
        "print(sum(p.numel() for p in m.parameters())/1e6, 'M parameters')\n",
        "\n",
        "# create a PyTorch optimizer\n",
        "optimizer = torch.optim.AdamW(model.parameters(), lr=learning_rate)\n",
        "\n",
        "for iter in range(max_iters):\n",
        "\n",
        "    # every once in a while evaluate the loss on train and val sets\n",
        "    if iter % eval_interval == 0 or iter == max_iters - 1:\n",
        "        losses = estimate_loss()\n",
        "        print(f\"step {iter}: train loss {losses['train']:.4f}, val loss {losses['val']:.4f}\")\n",
        "\n",
        "    # sample a batch of data\n",
        "    xb, yb = get_batch('train')\n",
        "\n",
        "    # evaluate the loss\n",
        "    logits, loss = model(xb, yb)\n",
        "    optimizer.zero_grad(set_to_none=True)\n",
        "    loss.backward()\n",
        "    optimizer.step()\n",
        "\n",
        "# generate from the model\n",
        "context = torch.zeros((1, 1), dtype=torch.long, device=device)\n",
        "print(decode(m.generate(context, max_new_tokens=2000)[0].tolist()))\n"
      ],
      "metadata": {
        "colab": {
          "base_uri": "https://localhost:8080/"
        },
        "id": "A_BCklQzE8ev",
        "outputId": "385416f9-4e9d-4a67-b4ae-ac74ff5b4ba4"
      },
      "execution_count": null,
      "outputs": [
        {
          "output_type": "stream",
          "name": "stdout",
          "text": [
            "0.209084 M parameters\n",
            "step 0: train loss 4.1798, val loss 4.2030\n",
            "step 100: train loss 2.3917, val loss 2.7119\n",
            "step 200: train loss 2.2224, val loss 2.6154\n",
            "step 300: train loss 2.0592, val loss 2.5714\n",
            "step 400: train loss 1.9101, val loss 2.5282\n",
            "step 500: train loss 1.7810, val loss 2.5069\n",
            "step 600: train loss 1.6716, val loss 2.5135\n",
            "step 700: train loss 1.5469, val loss 2.6028\n",
            "step 800: train loss 1.4311, val loss 2.6649\n",
            "step 900: train loss 1.3246, val loss 2.7432\n",
            "step 1000: train loss 1.2076, val loss 2.8021\n",
            "step 1100: train loss 1.0992, val loss 2.8939\n",
            "step 1200: train loss 0.9990, val loss 3.0036\n",
            "step 1300: train loss 0.9092, val loss 3.0617\n",
            "step 1400: train loss 0.8110, val loss 3.2449\n",
            "step 1500: train loss 0.7545, val loss 3.4559\n",
            "step 1600: train loss 0.6646, val loss 3.5369\n",
            "step 1700: train loss 0.6164, val loss 3.6649\n",
            "step 1800: train loss 0.5730, val loss 3.8586\n",
            "step 1900: train loss 0.5216, val loss 3.9105\n",
            "step 2000: train loss 0.4941, val loss 4.1000\n",
            "step 2100: train loss 0.4573, val loss 4.1934\n",
            "step 2200: train loss 0.4447, val loss 4.3047\n",
            "step 2300: train loss 0.4139, val loss 4.4473\n",
            "step 2400: train loss 0.4017, val loss 4.6092\n",
            "step 2500: train loss 0.3892, val loss 4.5396\n",
            "step 2600: train loss 0.3754, val loss 4.6633\n",
            "step 2700: train loss 0.3673, val loss 4.6768\n",
            "step 2800: train loss 0.3601, val loss 4.7680\n",
            "step 2900: train loss 0.3594, val loss 4.8152\n",
            "step 3000: train loss 0.3487, val loss 4.8048\n",
            "step 3100: train loss 0.3403, val loss 4.8886\n",
            "step 3200: train loss 0.3362, val loss 4.9303\n",
            "step 3300: train loss 0.3287, val loss 5.0457\n",
            "step 3400: train loss 0.3205, val loss 5.1389\n",
            "step 3500: train loss 0.3290, val loss 5.0717\n",
            "step 3600: train loss 0.3259, val loss 5.1338\n",
            "step 3700: train loss 0.3085, val loss 5.2802\n",
            "step 3800: train loss 0.3194, val loss 5.1132\n",
            "step 3900: train loss 0.3107, val loss 5.2582\n",
            "step 4000: train loss 0.3148, val loss 5.2289\n",
            "step 4100: train loss 0.3029, val loss 5.2863\n",
            "step 4200: train loss 0.3026, val loss 5.3240\n",
            "step 4300: train loss 0.3068, val loss 5.3938\n",
            "step 4400: train loss 0.2998, val loss 5.3247\n",
            "step 4500: train loss 0.3056, val loss 5.4153\n",
            "step 4600: train loss 0.3002, val loss 5.3600\n",
            "step 4700: train loss 0.2964, val loss 5.5258\n",
            "step 4800: train loss 0.2930, val loss 5.4574\n",
            "step 4900: train loss 0.2960, val loss 5.4820\n",
            "step 4999: train loss 0.2941, val loss 5.6275\n",
            "\n",
            "றன. ஒளிப்பதிவறனாள் சிமாவின் உண்மையான சுவைகளை வெளிக்கொணர்கின்றன.\n",
            "படத்தின் ஒவ்வொரு குறிய பங்குகொள்ளும். வேளாண்மையே நிலைத்தன்மையை நமக்கு காண்பிக்கின்றது. அது ஒரு சாதாரண மொழியல்ல, அது நமது பண்பாட்டின் உயிர்ப்பும் அவ்வளவுதான்.‘ஜெயிலர்’ திரைப்படம் ரஜினிகாந்த் நடிப்பில் உருவான ஒரு சிறப்பம்பம்சம்சம் காின்னம் இரையமைப்பிரையாக தொடர்ந்து பரவியவாறு, திருவை கலாசாரத்தாலும், அதனைச் சமாளிக்கு சொந்த அனுபவங்களை வெளிப்படுத்துகின்றது. தமிழ் மொழியின் கற்பனை வளம் காலத்தைக் கடந்தும் பரவியது. நமக்கு பரம்பரையாகக் கிடைத்த கலை வடிவங்கள், அதை வழிமொழிந்த ஆவணங்கள் இன்றும் பெருமையாகச் சொழர்க்கு கலைஞர்கின்றன. சமாறு இருக்கேன். நீ எதிரியாக மாறி, ரஜினியின் காட்சிகள் படம் ஒரு திகில் கலந்த அனுபவமாக மாறியது. பல சவாலான தருணர்ச்சியும் ஒருங்கே கலந்திருந்தன.\n",
            "'ஜெயிலர்' படத்தின் மேலும் ஒரு சிறப்பம்சம் காிரிக்கையான ரெருவூகியாக இருந்தது. பல நூற்றாண்டுகள் கடந்த பிறகும், மொழியின் சுவடுகள் அனைத்தும் அதே போலவே சீரம்பமாகும் ரெடியாவின் உண்மையான சுவைகளை வெளிகள் எழுந்துக்க முந்தையது. இதை றையின் உள் அழகிய மயல்மப்புகள், மரபுரியத்தில் மாறுபட்றியையும் உணர்வையும் மேலும் வலுப்படுத்தியுள்ளார். பாடல்களும் பின்னணி இசையும் படத்தின் உணர்வையுன. நமதனது மே முயற்றும் சேரரி பல சவால்கள் திகழ்த்தில் வருகிறது. ஸ்டண்ட் காட்சிகள் படத்தின் உணர்வுகளிய அதை நிரைப் படமாகவும் இது திகழ்கின்றது.தமிழ்நாடு என்றால் மக்கட்தொகையால் மிகவும் பிரபலங்களில் அதிருக்கின்றன. சங்கள் என அழகியல் நிலைத்த அனுபவமாக மாறியது. பல சவாலான தருணங்கள் இருந்த போதும் நமிழலையாக இருந்து வருகிறது. இங்கு நிலவிஞர்களு, பாண்டிய மன்னர்கள் கட்டிய மதுரை மீனாஸ் மாஸ் உணர்வையும் மேலும் வலுப்படுத்தியுள்ளார். கதாநாயகனாக வரும் ரஜினியின் வேடம் சற்று பேசுகின்றன. நம் மொழி நுணுக்கமான ஒரு சிந்தனையை பரப்பும் உள்வாய்ப்புகளால் மட்டுமே அதன் இரின்றைய மிகப் பெரிய வெற்றிப்படமாகத் திகழ்கிறது. இலக்கியத்தின் வெளிச்சத்தில் அதன் பெரிய எதிரில்லர்கள், மொழியின் சுவடுகள் அனைத்தும் அதே போலவே சீரமைக்கப்பட்டு சின்னநாள் ஊட்டிகளும் பட்ட கேரக்டராக மாறியது. பல சவாலான தருணங்களை தரிகின்றன. மொழி நுணுக்கமான ஒரு சிந்தனையை பரப்பில் மிகுந்த தாக் கியதாபாத்திரில் மிகுந்த அடிப்பையாகக் கிடைத்த கலை வடிவங்கள், அதை வழிமொழிந்த ஆவணங்கள\n"
          ]
        }
      ]
    }
  ]
}